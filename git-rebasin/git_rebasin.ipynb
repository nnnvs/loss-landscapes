{
  "nbformat": 4,
  "nbformat_minor": 0,
  "metadata": {
    "colab": {
      "provenance": [],
      "machine_shape": "hm"
    },
    "kernelspec": {
      "name": "python3",
      "display_name": "Python 3"
    },
    "language_info": {
      "name": "python"
    },
    "accelerator": "GPU",
    "gpuClass": "standard",
    "widgets": {
      "application/vnd.jupyter.widget-state+json": {
        "85f2e9fb00aa4c8ca83a18477e0b1ac8": {
          "model_module": "@jupyter-widgets/controls",
          "model_name": "HBoxModel",
          "model_module_version": "1.5.0",
          "state": {
            "_dom_classes": [],
            "_model_module": "@jupyter-widgets/controls",
            "_model_module_version": "1.5.0",
            "_model_name": "HBoxModel",
            "_view_count": null,
            "_view_module": "@jupyter-widgets/controls",
            "_view_module_version": "1.5.0",
            "_view_name": "HBoxView",
            "box_style": "",
            "children": [
              "IPY_MODEL_6cbcf3b8e97f4ef8b99a2e86016a2664",
              "IPY_MODEL_7484ee9f68e44c6c886b0137aa8045d1",
              "IPY_MODEL_af6836fc6b49404592f8414ee237c026"
            ],
            "layout": "IPY_MODEL_dbd7a8aa8c3a46e9af4720009e72bb94"
          }
        },
        "6cbcf3b8e97f4ef8b99a2e86016a2664": {
          "model_module": "@jupyter-widgets/controls",
          "model_name": "HTMLModel",
          "model_module_version": "1.5.0",
          "state": {
            "_dom_classes": [],
            "_model_module": "@jupyter-widgets/controls",
            "_model_module_version": "1.5.0",
            "_model_name": "HTMLModel",
            "_view_count": null,
            "_view_module": "@jupyter-widgets/controls",
            "_view_module_version": "1.5.0",
            "_view_name": "HTMLView",
            "description": "",
            "description_tooltip": null,
            "layout": "IPY_MODEL_64b0c37d2c10412e80407f0dbfb078eb",
            "placeholder": "​",
            "style": "IPY_MODEL_c604dc25ec2d4ddfb2062a34e2392802",
            "value": "Dl Completed...: 100%"
          }
        },
        "7484ee9f68e44c6c886b0137aa8045d1": {
          "model_module": "@jupyter-widgets/controls",
          "model_name": "FloatProgressModel",
          "model_module_version": "1.5.0",
          "state": {
            "_dom_classes": [],
            "_model_module": "@jupyter-widgets/controls",
            "_model_module_version": "1.5.0",
            "_model_name": "FloatProgressModel",
            "_view_count": null,
            "_view_module": "@jupyter-widgets/controls",
            "_view_module_version": "1.5.0",
            "_view_name": "ProgressView",
            "bar_style": "success",
            "description": "",
            "description_tooltip": null,
            "layout": "IPY_MODEL_26a248695d024e55ac21b203d4542022",
            "max": 4,
            "min": 0,
            "orientation": "horizontal",
            "style": "IPY_MODEL_fc40928522ac448c82cf366bf1cb1066",
            "value": 4
          }
        },
        "af6836fc6b49404592f8414ee237c026": {
          "model_module": "@jupyter-widgets/controls",
          "model_name": "HTMLModel",
          "model_module_version": "1.5.0",
          "state": {
            "_dom_classes": [],
            "_model_module": "@jupyter-widgets/controls",
            "_model_module_version": "1.5.0",
            "_model_name": "HTMLModel",
            "_view_count": null,
            "_view_module": "@jupyter-widgets/controls",
            "_view_module_version": "1.5.0",
            "_view_name": "HTMLView",
            "description": "",
            "description_tooltip": null,
            "layout": "IPY_MODEL_948f4a3f890f4465b47250cd5fc66c42",
            "placeholder": "​",
            "style": "IPY_MODEL_09d6311860bc4859bf60839558eb4889",
            "value": " 4/4 [00:00&lt;00:00,  8.43 file/s]"
          }
        },
        "dbd7a8aa8c3a46e9af4720009e72bb94": {
          "model_module": "@jupyter-widgets/base",
          "model_name": "LayoutModel",
          "model_module_version": "1.2.0",
          "state": {
            "_model_module": "@jupyter-widgets/base",
            "_model_module_version": "1.2.0",
            "_model_name": "LayoutModel",
            "_view_count": null,
            "_view_module": "@jupyter-widgets/base",
            "_view_module_version": "1.2.0",
            "_view_name": "LayoutView",
            "align_content": null,
            "align_items": null,
            "align_self": null,
            "border": null,
            "bottom": null,
            "display": null,
            "flex": null,
            "flex_flow": null,
            "grid_area": null,
            "grid_auto_columns": null,
            "grid_auto_flow": null,
            "grid_auto_rows": null,
            "grid_column": null,
            "grid_gap": null,
            "grid_row": null,
            "grid_template_areas": null,
            "grid_template_columns": null,
            "grid_template_rows": null,
            "height": null,
            "justify_content": null,
            "justify_items": null,
            "left": null,
            "margin": null,
            "max_height": null,
            "max_width": null,
            "min_height": null,
            "min_width": null,
            "object_fit": null,
            "object_position": null,
            "order": null,
            "overflow": null,
            "overflow_x": null,
            "overflow_y": null,
            "padding": null,
            "right": null,
            "top": null,
            "visibility": null,
            "width": null
          }
        },
        "64b0c37d2c10412e80407f0dbfb078eb": {
          "model_module": "@jupyter-widgets/base",
          "model_name": "LayoutModel",
          "model_module_version": "1.2.0",
          "state": {
            "_model_module": "@jupyter-widgets/base",
            "_model_module_version": "1.2.0",
            "_model_name": "LayoutModel",
            "_view_count": null,
            "_view_module": "@jupyter-widgets/base",
            "_view_module_version": "1.2.0",
            "_view_name": "LayoutView",
            "align_content": null,
            "align_items": null,
            "align_self": null,
            "border": null,
            "bottom": null,
            "display": null,
            "flex": null,
            "flex_flow": null,
            "grid_area": null,
            "grid_auto_columns": null,
            "grid_auto_flow": null,
            "grid_auto_rows": null,
            "grid_column": null,
            "grid_gap": null,
            "grid_row": null,
            "grid_template_areas": null,
            "grid_template_columns": null,
            "grid_template_rows": null,
            "height": null,
            "justify_content": null,
            "justify_items": null,
            "left": null,
            "margin": null,
            "max_height": null,
            "max_width": null,
            "min_height": null,
            "min_width": null,
            "object_fit": null,
            "object_position": null,
            "order": null,
            "overflow": null,
            "overflow_x": null,
            "overflow_y": null,
            "padding": null,
            "right": null,
            "top": null,
            "visibility": null,
            "width": null
          }
        },
        "c604dc25ec2d4ddfb2062a34e2392802": {
          "model_module": "@jupyter-widgets/controls",
          "model_name": "DescriptionStyleModel",
          "model_module_version": "1.5.0",
          "state": {
            "_model_module": "@jupyter-widgets/controls",
            "_model_module_version": "1.5.0",
            "_model_name": "DescriptionStyleModel",
            "_view_count": null,
            "_view_module": "@jupyter-widgets/base",
            "_view_module_version": "1.2.0",
            "_view_name": "StyleView",
            "description_width": ""
          }
        },
        "26a248695d024e55ac21b203d4542022": {
          "model_module": "@jupyter-widgets/base",
          "model_name": "LayoutModel",
          "model_module_version": "1.2.0",
          "state": {
            "_model_module": "@jupyter-widgets/base",
            "_model_module_version": "1.2.0",
            "_model_name": "LayoutModel",
            "_view_count": null,
            "_view_module": "@jupyter-widgets/base",
            "_view_module_version": "1.2.0",
            "_view_name": "LayoutView",
            "align_content": null,
            "align_items": null,
            "align_self": null,
            "border": null,
            "bottom": null,
            "display": null,
            "flex": null,
            "flex_flow": null,
            "grid_area": null,
            "grid_auto_columns": null,
            "grid_auto_flow": null,
            "grid_auto_rows": null,
            "grid_column": null,
            "grid_gap": null,
            "grid_row": null,
            "grid_template_areas": null,
            "grid_template_columns": null,
            "grid_template_rows": null,
            "height": null,
            "justify_content": null,
            "justify_items": null,
            "left": null,
            "margin": null,
            "max_height": null,
            "max_width": null,
            "min_height": null,
            "min_width": null,
            "object_fit": null,
            "object_position": null,
            "order": null,
            "overflow": null,
            "overflow_x": null,
            "overflow_y": null,
            "padding": null,
            "right": null,
            "top": null,
            "visibility": null,
            "width": null
          }
        },
        "fc40928522ac448c82cf366bf1cb1066": {
          "model_module": "@jupyter-widgets/controls",
          "model_name": "ProgressStyleModel",
          "model_module_version": "1.5.0",
          "state": {
            "_model_module": "@jupyter-widgets/controls",
            "_model_module_version": "1.5.0",
            "_model_name": "ProgressStyleModel",
            "_view_count": null,
            "_view_module": "@jupyter-widgets/base",
            "_view_module_version": "1.2.0",
            "_view_name": "StyleView",
            "bar_color": null,
            "description_width": ""
          }
        },
        "948f4a3f890f4465b47250cd5fc66c42": {
          "model_module": "@jupyter-widgets/base",
          "model_name": "LayoutModel",
          "model_module_version": "1.2.0",
          "state": {
            "_model_module": "@jupyter-widgets/base",
            "_model_module_version": "1.2.0",
            "_model_name": "LayoutModel",
            "_view_count": null,
            "_view_module": "@jupyter-widgets/base",
            "_view_module_version": "1.2.0",
            "_view_name": "LayoutView",
            "align_content": null,
            "align_items": null,
            "align_self": null,
            "border": null,
            "bottom": null,
            "display": null,
            "flex": null,
            "flex_flow": null,
            "grid_area": null,
            "grid_auto_columns": null,
            "grid_auto_flow": null,
            "grid_auto_rows": null,
            "grid_column": null,
            "grid_gap": null,
            "grid_row": null,
            "grid_template_areas": null,
            "grid_template_columns": null,
            "grid_template_rows": null,
            "height": null,
            "justify_content": null,
            "justify_items": null,
            "left": null,
            "margin": null,
            "max_height": null,
            "max_width": null,
            "min_height": null,
            "min_width": null,
            "object_fit": null,
            "object_position": null,
            "order": null,
            "overflow": null,
            "overflow_x": null,
            "overflow_y": null,
            "padding": null,
            "right": null,
            "top": null,
            "visibility": null,
            "width": null
          }
        },
        "09d6311860bc4859bf60839558eb4889": {
          "model_module": "@jupyter-widgets/controls",
          "model_name": "DescriptionStyleModel",
          "model_module_version": "1.5.0",
          "state": {
            "_model_module": "@jupyter-widgets/controls",
            "_model_module_version": "1.5.0",
            "_model_name": "DescriptionStyleModel",
            "_view_count": null,
            "_view_module": "@jupyter-widgets/base",
            "_view_module_version": "1.2.0",
            "_view_name": "StyleView",
            "description_width": ""
          }
        }
      }
    }
  },
  "cells": [
    {
      "cell_type": "markdown",
      "source": [
        "## Library imports"
      ],
      "metadata": {
        "id": "08-3K_10YDRI"
      }
    },
    {
      "cell_type": "code",
      "source": [
        "!pip install augmax\n",
        "# Install the newest JAXlib version.\n",
        "!pip install --upgrade -q pip jax jaxlib\n",
        "# Install Flax at head:\n",
        "!pip install --upgrade -q git+https://github.com/google/flax.git"
      ],
      "metadata": {
        "colab": {
          "base_uri": "https://localhost:8080/"
        },
        "id": "EIwcpXjn2xOV",
        "outputId": "b4a99142-bdbc-47bf-9371-870b60543988"
      },
      "execution_count": null,
      "outputs": [
        {
          "output_type": "stream",
          "name": "stdout",
          "text": [
            "Looking in indexes: https://pypi.org/simple, https://us-python.pkg.dev/colab-wheels/public/simple/\n",
            "Collecting augmax\n",
            "  Downloading augmax-0.3.1-py3-none-any.whl (21 kB)\n",
            "Collecting einops>=0.3\n",
            "  Downloading einops-0.6.0-py3-none-any.whl (41 kB)\n",
            "\u001b[K     |████████████████████████████████| 41 kB 300 kB/s \n",
            "\u001b[?25hRequirement already satisfied: jax>=0.1 in /usr/local/lib/python3.7/dist-packages (from augmax) (0.3.23)\n",
            "Requirement already satisfied: opt-einsum in /usr/local/lib/python3.7/dist-packages (from jax>=0.1->augmax) (3.3.0)\n",
            "Requirement already satisfied: scipy>=1.5 in /usr/local/lib/python3.7/dist-packages (from jax>=0.1->augmax) (1.7.3)\n",
            "Requirement already satisfied: absl-py in /usr/local/lib/python3.7/dist-packages (from jax>=0.1->augmax) (1.3.0)\n",
            "Requirement already satisfied: numpy>=1.20 in /usr/local/lib/python3.7/dist-packages (from jax>=0.1->augmax) (1.21.6)\n",
            "Requirement already satisfied: etils[epath] in /usr/local/lib/python3.7/dist-packages (from jax>=0.1->augmax) (0.9.0)\n",
            "Requirement already satisfied: typing-extensions in /usr/local/lib/python3.7/dist-packages (from jax>=0.1->augmax) (4.1.1)\n",
            "Requirement already satisfied: zipp in /usr/local/lib/python3.7/dist-packages (from etils[epath]->jax>=0.1->augmax) (3.10.0)\n",
            "Requirement already satisfied: importlib_resources in /usr/local/lib/python3.7/dist-packages (from etils[epath]->jax>=0.1->augmax) (5.10.0)\n",
            "Installing collected packages: einops, augmax\n",
            "Successfully installed augmax-0.3.1 einops-0.6.0\n",
            "\u001b[K     |████████████████████████████████| 2.1 MB 7.2 MB/s \n",
            "\u001b[K     |████████████████████████████████| 1.1 MB 15.8 MB/s \n",
            "\u001b[K     |████████████████████████████████| 70.0 MB 9.9 MB/s \n",
            "\u001b[?25h  Building wheel for jax (setup.py) ... \u001b[?25l\u001b[?25hdone\n",
            "  Preparing metadata (setup.py) ... \u001b[?25l\u001b[?25hdone\n",
            "\u001b[2K     \u001b[90m━━━━━━━━━━━━━━━━━━━━━━━━━━━━━━━━━━━━━━━\u001b[0m \u001b[32m145.1/145.1 kB\u001b[0m \u001b[31m5.5 MB/s\u001b[0m eta \u001b[36m0:00:00\u001b[0m\n",
            "\u001b[2K     \u001b[90m━━━━━━━━━━━━━━━━━━━━━━━━━━━━━━━━━━━━━━━━\u001b[0m \u001b[32m8.3/8.3 MB\u001b[0m \u001b[31m70.7 MB/s\u001b[0m eta \u001b[36m0:00:00\u001b[0m\n",
            "\u001b[2K     \u001b[90m━━━━━━━━━━━━━━━━━━━━━━━━━━━━━━━━━━━━━━\u001b[0m \u001b[32m237.5/237.5 kB\u001b[0m \u001b[31m27.2 MB/s\u001b[0m eta \u001b[36m0:00:00\u001b[0m\n",
            "\u001b[2K     \u001b[90m━━━━━━━━━━━━━━━━━━━━━━━━━━━━━━━━━━━━━━━━\u001b[0m \u001b[32m51.1/51.1 kB\u001b[0m \u001b[31m3.2 MB/s\u001b[0m eta \u001b[36m0:00:00\u001b[0m\n",
            "\u001b[2K     \u001b[90m━━━━━━━━━━━━━━━━━━━━━━━━━━━━━━━━━━━━━━━━\u001b[0m \u001b[32m85.3/85.3 kB\u001b[0m \u001b[31m10.4 MB/s\u001b[0m eta \u001b[36m0:00:00\u001b[0m\n",
            "\u001b[?25h  Building wheel for flax (setup.py) ... \u001b[?25l\u001b[?25hdone\n",
            "\u001b[33mWARNING: Running pip as the 'root' user can result in broken permissions and conflicting behaviour with the system package manager. It is recommended to use a virtual environment instead: https://pip.pypa.io/warnings/venv\u001b[0m\u001b[33m\n",
            "\u001b[0m"
          ]
        }
      ]
    },
    {
      "cell_type": "markdown",
      "source": [
        "## Permutation utils"
      ],
      "metadata": {
        "id": "pxFk74rKYOev"
      }
    },
    {
      "cell_type": "code",
      "source": [
        "from collections import defaultdict\n",
        "from typing import NamedTuple\n",
        "\n",
        "import jax.numpy as jnp\n",
        "from jax import random\n",
        "from scipy.optimize import linear_sum_assignment\n",
        "\n",
        "\n",
        "class PermutationSpec(NamedTuple):\n",
        "  perm_to_axes: dict\n",
        "  axes_to_perm: dict\n",
        "\n",
        "def permutation_spec_from_axes_to_perm(axes_to_perm: dict) -> PermutationSpec:\n",
        "  perm_to_axes = defaultdict(list)\n",
        "  for wk, axis_perms in axes_to_perm.items():\n",
        "    for axis, perm in enumerate(axis_perms):\n",
        "      if perm is not None:\n",
        "        perm_to_axes[perm].append((wk, axis))\n",
        "  return PermutationSpec(perm_to_axes=dict(perm_to_axes), axes_to_perm=axes_to_perm)\n",
        "\n",
        "def mlp_permutation_spec(num_hidden_layers: int) -> PermutationSpec:\n",
        "  \"\"\"We assume that one permutation cannot appear in two axes of the same weight array.\"\"\"\n",
        "  assert num_hidden_layers >= 1\n",
        "  return permutation_spec_from_axes_to_perm({\n",
        "      \"Dense_0/kernel\": (None, \"P_0\"),\n",
        "      **{f\"Dense_{i}/kernel\": (f\"P_{i-1}\", f\"P_{i}\")\n",
        "         for i in range(1, num_hidden_layers)},\n",
        "      **{f\"Dense_{i}/bias\": (f\"P_{i}\", )\n",
        "         for i in range(num_hidden_layers)},\n",
        "      f\"Dense_{num_hidden_layers}/kernel\": (f\"P_{num_hidden_layers-1}\", None),\n",
        "      f\"Dense_{num_hidden_layers}/bias\": (None, ),\n",
        "  })\n",
        "\n",
        "def get_permuted_param(ps: PermutationSpec, perm, k: str, params, except_axis=None):\n",
        "  \"\"\"Get parameter `k` from `params`, with the permutations applied.\"\"\"\n",
        "  w = params[k]\n",
        "  for axis, p in enumerate(ps.axes_to_perm[k]):\n",
        "    # Skip the axis we're trying to permute.\n",
        "    if axis == except_axis:\n",
        "      continue\n",
        "\n",
        "    # None indicates that there is no permutation relevant to that axis.\n",
        "    if p is not None:\n",
        "      w = jnp.take(w, perm[p], axis=axis)\n",
        "\n",
        "  return w\n",
        "\n",
        "def apply_permutation(ps: PermutationSpec, perm, params):\n",
        "  \"\"\"Apply a `perm` to `params`.\"\"\"\n",
        "  return {k: get_permuted_param(ps, perm, k, params) for k in params.keys()}\n",
        "\n",
        "def weight_matching(rng, ps: PermutationSpec, params_a, params_b, max_iter=100, init_perm=None):\n",
        "  \"\"\"Find a permutation of `params_b` to make them match `params_a`.\"\"\"\n",
        "  perm_sizes = {p: params_a[axes[0][0]].shape[axes[0][1]] for p, axes in ps.perm_to_axes.items()}\n",
        "\n",
        "  perm = {p: jnp.arange(n) for p, n in perm_sizes.items()} if init_perm is None else init_perm\n",
        "  perm_names = list(perm.keys())\n",
        "\n",
        "  for iteration in range(max_iter):\n",
        "    progress = False\n",
        "    for p_ix in random.permutation(rngmix(rng, iteration), len(perm_names)):\n",
        "      p = perm_names[p_ix]\n",
        "      n = perm_sizes[p]\n",
        "      A = jnp.zeros((n, n))\n",
        "      for wk, axis in ps.perm_to_axes[p]:\n",
        "        w_a = params_a[wk]\n",
        "        w_b = get_permuted_param(ps, perm, wk, params_b, except_axis=axis)\n",
        "        w_a = jnp.moveaxis(w_a, axis, 0).reshape((n, -1))\n",
        "        w_b = jnp.moveaxis(w_b, axis, 0).reshape((n, -1))\n",
        "        A += w_a @ w_b.T\n",
        "\n",
        "      ri, ci = linear_sum_assignment(A, maximize=True)\n",
        "      assert (ri == jnp.arange(len(ri))).all()\n",
        "\n",
        "      oldL = jnp.vdot(A, jnp.eye(n)[perm[p]])\n",
        "      newL = jnp.vdot(A, jnp.eye(n)[ci, :])\n",
        "      print(f\"{iteration}/{p}: {newL - oldL}\")\n",
        "      progress = progress or newL > oldL + 1e-12\n",
        "\n",
        "      perm[p] = jnp.array(ci)\n",
        "\n",
        "    if not progress:\n",
        "      break\n",
        "\n",
        "  return perm\n",
        "\n",
        "def test_weight_matching():\n",
        "  \"\"\"If we just have a single hidden layer then it should converge after just one step.\"\"\"\n",
        "  ps = mlp_permutation_spec(num_hidden_layers=1)\n",
        "  rng = random.PRNGKey(123)\n",
        "  num_hidden = 10\n",
        "  shapes = {\n",
        "      \"Dense_0/kernel\": (2, num_hidden),\n",
        "      \"Dense_0/bias\": (num_hidden, ),\n",
        "      \"Dense_1/kernel\": (num_hidden, 3),\n",
        "      \"Dense_1/bias\": (3, )\n",
        "  }\n",
        "  params_a = {k: random.normal(rngmix(rng, f\"a-{k}\"), shape) for k, shape in shapes.items()}\n",
        "  params_b = {k: random.normal(rngmix(rng, f\"b-{k}\"), shape) for k, shape in shapes.items()}\n",
        "  perm = weight_matching(rng, ps, params_a, params_b)\n",
        "  print(perm)\n",
        "\n"
      ],
      "metadata": {
        "id": "Bqev0bBvBWOw"
      },
      "execution_count": null,
      "outputs": []
    },
    {
      "cell_type": "markdown",
      "source": [
        "## Utils"
      ],
      "metadata": {
        "id": "MRRnQciSYXVu"
      }
    },
    {
      "cell_type": "code",
      "source": [
        "import operator\n",
        "import re\n",
        "import time\n",
        "\n",
        "import jax.numpy as jnp\n",
        "from flax import traverse_util\n",
        "from flax.core import freeze, unfreeze\n",
        "from jax import random, tree_map\n",
        "from jax.tree_util import tree_reduce\n",
        "\n",
        "rngmix = lambda rng, x: random.fold_in(rng, hash(x))\n",
        "\n",
        "class RngPooper:\n",
        "  \"\"\"A stateful wrapper around stateless random.PRNGKey's.\"\"\"\n",
        "\n",
        "  def __init__(self, init_rng):\n",
        "    self.rng = init_rng\n",
        "\n",
        "  def poop(self):\n",
        "    self.rng, rng_key = random.split(self.rng)\n",
        "    return rng_key\n",
        "\n",
        "def l1prox(x, alpha):\n",
        "  return jnp.sign(x) * jnp.maximum(0, jnp.abs(x) - alpha)\n",
        "\n",
        "def flatten_params(params):\n",
        "  return {\"/\".join(k): v for k, v in traverse_util.flatten_dict(unfreeze(params)).items()}\n",
        "\n",
        "def unflatten_params(flat_params):\n",
        "  return freeze(\n",
        "      traverse_util.unflatten_dict({tuple(k.split(\"/\")): v\n",
        "                                    for k, v in flat_params.items()}))\n",
        "\n",
        "def merge_params(a, b):\n",
        "  return unflatten_params({**a, **b})\n",
        "\n",
        "def kmatch(pattern, key):\n",
        "  regex = \"^\"\n",
        "  i = 0\n",
        "  while i < len(pattern):\n",
        "    if pattern[i] == \"*\":\n",
        "      if i + 1 < len(pattern) and pattern[i + 1] == \"*\":\n",
        "        regex += \"(.*)\"\n",
        "        i += 2\n",
        "      else:\n",
        "        regex += \"([^\\/]*)\"\n",
        "        i += 1\n",
        "    else:\n",
        "      regex += pattern[i]\n",
        "      i += 1\n",
        "  regex += \"$\"\n",
        "  return re.fullmatch(regex, key)\n",
        "\n",
        "assert kmatch(\"*\", \"a\") is not None\n",
        "assert kmatch(\"*\", \"a\").group(0) == \"a\"\n",
        "assert kmatch(\"*\", \"a\").group(1) == \"a\"\n",
        "assert kmatch(\"abc\", \"def\") is None\n",
        "assert kmatch(\"abc/*/ghi\", \"abc/def/ghi\").group(1) == \"def\"\n",
        "assert kmatch(\"abc/**/jkl\", \"abc/def/ghi/jkl\").group(1) == \"def/ghi\"\n",
        "assert kmatch(\"abc/*/jkl\", \"abc/def/ghi/jkl\") is None\n",
        "assert kmatch(\"**/*\", \"abc/def/ghi/jkl\").group(1) == \"abc/def/ghi\"\n",
        "assert kmatch(\"**/*\", \"abc/def/ghi/jkl\").group(2) == \"jkl\"\n"
      ],
      "metadata": {
        "id": "186MTf_d3Tvh"
      },
      "execution_count": null,
      "outputs": []
    },
    {
      "cell_type": "markdown",
      "source": [
        "## MLP model and dataset"
      ],
      "metadata": {
        "id": "UspSJSjzYqdl"
      }
    },
    {
      "cell_type": "code",
      "execution_count": null,
      "metadata": {
        "id": "8py7J8FF2fTW",
        "colab": {
          "base_uri": "https://localhost:8080/"
        },
        "outputId": "945477c3-189f-484c-a3e2-6857a627f3ec"
      },
      "outputs": [
        {
          "output_type": "stream",
          "name": "stderr",
          "text": [
            "WARNING:jax._src.lib.xla_bridge:No GPU/TPU found, falling back to CPU. (Set TF_CPP_MIN_LOG_LEVEL=0 and rerun for more info.)\n"
          ]
        }
      ],
      "source": [
        "\n",
        "\"\"\"Train an MLP on MNIST on one random seed. Serialize the model for\n",
        "interpolation downstream.\"\"\"\n",
        "import argparse\n",
        "\n",
        "import augmax\n",
        "import flax\n",
        "import jax\n",
        "import jax.numpy as jnp\n",
        "import numpy as np\n",
        "import optax\n",
        "import tensorflow as tf\n",
        "import tensorflow_datasets as tfds\n",
        "\n",
        "from flax import linen as nn\n",
        "from flax.training.train_state import TrainState\n",
        "from jax import jit, random, tree_map, value_and_grad, vmap\n",
        "from tqdm import tqdm\n",
        "\n",
        "# See https://github.com/tensorflow/tensorflow/issues/53831.\n",
        "\n",
        "# See https://github.com/google/jax/issues/9454.\n",
        "tf.config.set_visible_devices([], \"GPU\")\n",
        "\n",
        "activation = nn.relu\n",
        "\n",
        "class MLPModel(nn.Module):\n",
        "\n",
        "  @nn.compact\n",
        "  def __call__(self, x):\n",
        "    x = jnp.reshape(x, (-1, 28 * 28))\n",
        "    x = nn.Dense(512)(x)\n",
        "    x = activation(x)\n",
        "    x = nn.Dense(512)(x)\n",
        "    x = activation(x)\n",
        "    x = nn.Dense(512)(x)\n",
        "    x = activation(x)\n",
        "    x = nn.Dense(10)(x)\n",
        "    x = nn.log_softmax(x)\n",
        "    return x\n",
        "\n",
        "def make_stuff(model):\n",
        "  normalize_transform = augmax.ByteToFloat()\n",
        "\n",
        "  @jit\n",
        "  def batch_eval(params, images_u8, labels):\n",
        "    images_f32 = vmap(normalize_transform)(None, images_u8)\n",
        "    logits = model.apply({\"params\": params}, images_f32)\n",
        "    y_onehot = jax.nn.one_hot(labels, 10)\n",
        "    loss = jnp.mean(optax.softmax_cross_entropy(logits=logits, labels=y_onehot))\n",
        "    num_correct = jnp.sum(jnp.argmax(logits, axis=-1) == jnp.argmax(y_onehot, axis=-1))\n",
        "    return loss, {\"num_correct\": num_correct}\n",
        "\n",
        "  # Stan's addition for saving predictions of the model to see how they differ\n",
        "  @jit\n",
        "  def batch_predictions(params, images_u8, labels):\n",
        "    images_f32 = vmap(normalize_transform)(None, images_u8)\n",
        "    logits = model.apply({\"params\": params}, images_f32)\n",
        "    y_onehot = jax.nn.one_hot(labels, 10)\n",
        "    loss = jnp.mean(optax.softmax_cross_entropy(logits=logits, labels=y_onehot))\n",
        "    num_correct = jnp.sum(jnp.argmax(logits, axis=-1) == jnp.argmax(y_onehot, axis=-1))\n",
        "    return loss, logits, y_onehot, {\"num_correct\": num_correct}\n",
        "\n",
        "  @jit\n",
        "  def step(train_state, images_f32, labels):\n",
        "    (l, info), g = value_and_grad(batch_eval, has_aux=True)(train_state.params, images_f32, labels)\n",
        "    return train_state.apply_gradients(grads=g), {\"batch_loss\": l, **info}\n",
        "\n",
        "  def dataset_loss_and_accuracy(params, dataset, batch_size: int):\n",
        "    num_examples = dataset[\"images_u8\"].shape[0]\n",
        "    assert num_examples % batch_size == 0\n",
        "    num_batches = num_examples // batch_size\n",
        "    batch_ix = jnp.arange(num_examples).reshape((num_batches, batch_size))\n",
        "    # Can't use vmap or run in a single batch since that overloads GPU memory.\n",
        "    losses, infos = zip(*[\n",
        "        batch_eval(\n",
        "            params,\n",
        "            dataset[\"images_u8\"][batch_ix[i, :], :, :, :],\n",
        "            dataset[\"labels\"][batch_ix[i, :]],\n",
        "        ) for i in range(num_batches)\n",
        "    ])\n",
        "    return (\n",
        "        jnp.sum(batch_size * jnp.array(losses)) / num_examples,\n",
        "        sum(x[\"num_correct\"] for x in infos) / num_examples,\n",
        "    )\n",
        "\n",
        "  # Stan's addition for saving predictions of the model to see how they differ\n",
        "  def dataset_predictions(params, dataset, batch_size: int):\n",
        "    num_examples = dataset[\"images_u8\"].shape[0]\n",
        "    assert num_examples % batch_size == 0\n",
        "    num_batches = num_examples // batch_size\n",
        "    batch_ix = jnp.arange(num_examples).reshape((num_batches, batch_size))\n",
        "    # Can't use vmap or run in a single batch since that overloads GPU memory.\n",
        "    losses, logits, y_onehots, infos = zip(*[\n",
        "        batch_predictions(\n",
        "            params,\n",
        "            dataset[\"images_u8\"][batch_ix[i, :], :, :, :],\n",
        "            dataset[\"labels\"][batch_ix[i, :]],\n",
        "        ) for i in range(num_batches)\n",
        "    ])\n",
        "    return (\n",
        "        jnp.sum(batch_size * jnp.array(losses)) / num_examples,\n",
        "        sum(x[\"num_correct\"] for x in infos) / num_examples,\n",
        "        logits,\n",
        "        y_onehots,\n",
        "    )\n",
        "\n",
        "  return {\n",
        "      \"normalize_transform\": normalize_transform,\n",
        "      \"batch_eval\": batch_eval,\n",
        "      \"step\": step,\n",
        "      \"dataset_loss_and_accuracy\": dataset_loss_and_accuracy,\n",
        "      \"dataset_predictions\": dataset_predictions,\n",
        "  }\n",
        "\n",
        "def load_datasets():\n",
        "  \"\"\"Return the training and test datasets, unbatched.\"\"\"\n",
        "  # See https://www.tensorflow.org/datasets/overview#as_batched_tftensor_batch_size-1.\n",
        "  train_ds_images_u8, train_ds_labels = tfds.as_numpy(\n",
        "      tfds.load(\"mnist\", split=\"train\", batch_size=-1, as_supervised=True))\n",
        "  test_ds_images_u8, test_ds_labels = tfds.as_numpy(\n",
        "      tfds.load(\"mnist\", split=\"test\", batch_size=-1, as_supervised=True))\n",
        "  train_ds = {\"images_u8\": train_ds_images_u8, \"labels\": train_ds_labels}\n",
        "  test_ds = {\"images_u8\": test_ds_images_u8, \"labels\": test_ds_labels}\n",
        "  return train_ds, test_ds\n",
        "\n"
      ]
    },
    {
      "cell_type": "markdown",
      "source": [
        "## Runs details"
      ],
      "metadata": {
        "id": "Y7xeM-sdZAp6"
      }
    },
    {
      "cell_type": "code",
      "source": [
        "num_epochs = 100\n",
        "batch_size = 500\n",
        "seed = 12421\n",
        "config_optimizer = \"adam\" #\"adam\"\n",
        "learning_rate = 1e-3\n",
        "\n",
        "runs_to_collect = 2 #Stan's new stuff\n",
        "\n",
        "rng = random.PRNGKey(seed)"
      ],
      "metadata": {
        "id": "2Uc_f5roM8j1"
      },
      "execution_count": null,
      "outputs": []
    },
    {
      "cell_type": "code",
      "source": [
        "# storing model params after training\n",
        "flattened_models_list = []\n",
        "\n",
        "for run_i in range(runs_to_collect):\n",
        "\n",
        "  rng = random.PRNGKey(seed+run_i) # chaning the seed each run \n",
        "  rngmix = lambda rng, x: random.fold_in(rng, hash(x))\n",
        "\n",
        "  model = MLPModel()\n",
        "  stuff = make_stuff(model)\n",
        "\n",
        "  print(\"--------------------------\")\n",
        "  print(f\"Starting run {run_i}\")\n",
        "\n",
        "\n",
        "  train_ds, test_ds = load_datasets()\n",
        "  print(\"train_ds labels hash\", hash(np.array(train_ds[\"labels\"]).tobytes()))\n",
        "  print(\"test_ds labels hash\", hash(np.array(test_ds[\"labels\"]).tobytes()))\n",
        "\n",
        "  num_train_examples = train_ds[\"images_u8\"].shape[0]\n",
        "  num_test_examples = test_ds[\"images_u8\"].shape[0]\n",
        "  assert num_train_examples % batch_size == 0\n",
        "  print(\"num_train_examples\", num_train_examples)\n",
        "  print(\"num_test_examples\", num_test_examples)\n",
        "\n",
        "  if config_optimizer == \"sgd\":\n",
        "    # See runs:\n",
        "    # * https://wandb.ai/skainswo/playing-the-lottery/runs/3blb4uhm\n",
        "    # * https://wandb.ai/skainswo/playing-the-lottery/runs/174j7umt\n",
        "    # * https://wandb.ai/skainswo/playing-the-lottery/runs/td02y8gg\n",
        "    lr_schedule = optax.warmup_cosine_decay_schedule(\n",
        "        init_value=1e-6,\n",
        "        peak_value=learning_rate,\n",
        "        warmup_steps=10,\n",
        "        # Confusingly, `decay_steps` is actually the total number of steps,\n",
        "        # including the warmup.\n",
        "        decay_steps=num_epochs * (num_train_examples // batch_size),\n",
        "    )\n",
        "    tx = optax.sgd(lr_schedule, momentum=0.9)\n",
        "  elif config_optimizer == \"adam\":\n",
        "    # See runs:\n",
        "    # - https://wandb.ai/skainswo/playing-the-lottery/runs/1b1gztfx (trim-fire-575)\n",
        "    # - https://wandb.ai/skainswo/playing-the-lottery/runs/1hrmw7wr (wild-dream-576)\n",
        "    tx = optax.adam(learning_rate)\n",
        "  else:\n",
        "    # See runs:\n",
        "    # - https://wandb.ai/skainswo/playing-the-lottery/runs/k4luj7er (faithful-spaceship-579)\n",
        "    # - https://wandb.ai/skainswo/playing-the-lottery/runs/3ru7xy8c (sage-forest-580)\n",
        "    tx = optax.adamw(learning_rate, weight_decay=1e-4)\n",
        "\n",
        "  train_state = TrainState.create(\n",
        "      apply_fn=model.apply,\n",
        "      params=model.init(rngmix(rng, f\"init{run_i}\"), jnp.zeros((1, 28, 28, 1)))[\"params\"],\n",
        "      tx=tx,\n",
        "  )\n",
        "\n",
        "  for epoch in tqdm(range(num_epochs)):\n",
        "    infos = []\n",
        "  \n",
        "    batch_ix = random.permutation(rngmix(rng, f\"epoch-{epoch}\"), num_train_examples).reshape(\n",
        "        (-1, batch_size))\n",
        "    for i in range(batch_ix.shape[0]):\n",
        "      p = batch_ix[i, :]\n",
        "      images_u8 = train_ds[\"images_u8\"][p, :, :, :]\n",
        "      labels = train_ds[\"labels\"][p]\n",
        "      train_state, info = stuff[\"step\"](train_state, images_u8, labels)\n",
        "    \n",
        "\n",
        "    train_loss = sum(batch_size * x[\"batch_loss\"] for x in infos) / num_train_examples\n",
        "    train_accuracy = sum(x[\"num_correct\"] for x in infos) / num_train_examples\n",
        "\n",
        "    \n",
        "    actest_loss, test_accuracy = stuff[\"dataset_loss_and_accuracy\"](train_state.params, test_ds,\n",
        "                                                                    10_000)\n",
        "\n",
        "    params_l2 = tree_map(lambda x: jnp.sqrt(jnp.sum(x**2)),\n",
        "                          flatten_params({\"params_l2\": train_state.params}))\n",
        "    \n",
        "    \n",
        "  # summary\n",
        "  print(\"-----------------\")\n",
        "  print(f\"Run {run_i} DONE!\")\n",
        "  test_loss, test_accuracy = stuff[\"dataset_loss_and_accuracy\"](train_state.params, test_ds,\n",
        "                                                                10_000)\n",
        "  train_loss, train_accuracy = stuff[\"dataset_loss_and_accuracy\"](train_state.params, train_ds,\n",
        "                                                                60_000)\n",
        "  print(f\"Run={run_i} test loss={test_loss} test accuracy={test_accuracy} train loss={train_loss} train accuracy={train_accuracy}\")\n",
        "\n",
        "  flattened_models_list.append(flatten_params(train_state.params))\n"
      ],
      "metadata": {
        "colab": {
          "base_uri": "https://localhost:8080/",
          "height": 442,
          "referenced_widgets": [
            "85f2e9fb00aa4c8ca83a18477e0b1ac8",
            "6cbcf3b8e97f4ef8b99a2e86016a2664",
            "7484ee9f68e44c6c886b0137aa8045d1",
            "af6836fc6b49404592f8414ee237c026",
            "dbd7a8aa8c3a46e9af4720009e72bb94",
            "64b0c37d2c10412e80407f0dbfb078eb",
            "c604dc25ec2d4ddfb2062a34e2392802",
            "26a248695d024e55ac21b203d4542022",
            "fc40928522ac448c82cf366bf1cb1066",
            "948f4a3f890f4465b47250cd5fc66c42",
            "09d6311860bc4859bf60839558eb4889"
          ]
        },
        "id": "zBizSu-K2pjv",
        "outputId": "33f4dec1-66a1-4747-80fe-6cd8f85a78b6"
      },
      "execution_count": null,
      "outputs": [
        {
          "output_type": "stream",
          "name": "stdout",
          "text": [
            "--------------------------\n",
            "Starting run 0\n",
            "Downloading and preparing dataset 11.06 MiB (download: 11.06 MiB, generated: 21.00 MiB, total: 32.06 MiB) to ~/tensorflow_datasets/mnist/3.0.1...\n"
          ]
        },
        {
          "output_type": "display_data",
          "data": {
            "text/plain": [
              "Dl Completed...:   0%|          | 0/4 [00:00<?, ? file/s]"
            ],
            "application/vnd.jupyter.widget-view+json": {
              "version_major": 2,
              "version_minor": 0,
              "model_id": "85f2e9fb00aa4c8ca83a18477e0b1ac8"
            }
          },
          "metadata": {}
        },
        {
          "output_type": "stream",
          "name": "stdout",
          "text": [
            "Dataset mnist downloaded and prepared to ~/tensorflow_datasets/mnist/3.0.1. Subsequent calls will reuse this data.\n",
            "train_ds labels hash -2501838781323815468\n",
            "test_ds labels hash -2372667388835303293\n",
            "num_train_examples 60000\n",
            "num_test_examples 10000\n"
          ]
        },
        {
          "output_type": "stream",
          "name": "stderr",
          "text": [
            "100%|██████████| 100/100 [09:47<00:00,  5.87s/it]\n"
          ]
        },
        {
          "output_type": "stream",
          "name": "stdout",
          "text": [
            "-----------------\n",
            "Run 0 DONE!\n",
            "Run=0 test loss=0.16303028166294098 test accuracy=0.9847000241279602 train loss=4.870651792998615e-08 train accuracy=1.0\n",
            "--------------------------\n",
            "Starting run 1\n",
            "train_ds labels hash -2501838781323815468\n",
            "test_ds labels hash -2372667388835303293\n",
            "num_train_examples 60000\n",
            "num_test_examples 10000\n"
          ]
        },
        {
          "output_type": "stream",
          "name": "stderr",
          "text": [
            "100%|██████████| 100/100 [09:19<00:00,  5.60s/it]\n"
          ]
        },
        {
          "output_type": "stream",
          "name": "stdout",
          "text": [
            "-----------------\n",
            "Run 1 DONE!\n",
            "Run=1 test loss=0.11352583020925522 test accuracy=0.9846000075340271 train loss=3.092891347478144e-07 train accuracy=1.0\n"
          ]
        }
      ]
    },
    {
      "cell_type": "code",
      "source": [
        "# flattening params\n",
        "assert len(flattened_models_list) >= 2\n",
        "flattened_model1 = flattened_models_list[0]\n",
        "flattened_model2 = flattened_models_list[1]"
      ],
      "metadata": {
        "id": "vYDeIaVAbDQp"
      },
      "execution_count": null,
      "outputs": []
    },
    {
      "cell_type": "markdown",
      "source": [
        "## Permuting the model"
      ],
      "metadata": {
        "id": "kynTrJ-VbNOY"
      }
    },
    {
      "cell_type": "code",
      "source": [
        "permutation_spec = mlp_permutation_spec(3)\n",
        "final_permutation = weight_matching(random.PRNGKey(seed), permutation_spec,\n",
        "                                    flattened_model1, flattened_model2)"
      ],
      "metadata": {
        "colab": {
          "base_uri": "https://localhost:8080/"
        },
        "id": "IkP-ryVUBDbC",
        "outputId": "848a1e6d-8c8d-463a-9e90-c0179a39b03a"
      },
      "execution_count": null,
      "outputs": [
        {
          "output_type": "stream",
          "name": "stdout",
          "text": [
            "0/P_0: 708.1857299804688\n",
            "0/P_1: 360.3095397949219\n",
            "0/P_2: 233.64443969726562\n",
            "1/P_0: 23.452392578125\n",
            "1/P_2: 0.0\n",
            "1/P_1: 68.76220703125\n",
            "2/P_2: 26.463897705078125\n",
            "2/P_0: 4.296630859375\n",
            "2/P_1: 4.49261474609375\n",
            "3/P_0: 0.66845703125\n",
            "3/P_1: 0.6976318359375\n",
            "3/P_2: 6.244659423828125\n",
            "4/P_0: 0.1004638671875\n",
            "4/P_1: 0.41571044921875\n",
            "4/P_2: 1.367828369140625\n",
            "5/P_1: 0.5604248046875\n",
            "5/P_2: 0.66839599609375\n",
            "5/P_0: 0.2310791015625\n",
            "6/P_1: 0.3902587890625\n",
            "6/P_2: 0.6866455078125\n",
            "6/P_0: 0.00732421875\n",
            "7/P_2: 0.0\n",
            "7/P_1: 0.35455322265625\n",
            "7/P_0: 0.013427734375\n",
            "8/P_1: 0.02276611328125\n",
            "8/P_0: 0.0\n",
            "8/P_2: 0.788665771484375\n",
            "9/P_0: 0.0\n",
            "9/P_1: 0.0137939453125\n",
            "9/P_2: 0.03399658203125\n",
            "10/P_2: 0.0\n",
            "10/P_0: 0.0\n",
            "10/P_1: 0.02557373046875\n",
            "11/P_0: 0.0167236328125\n",
            "11/P_2: 0.02783203125\n",
            "11/P_1: 0.064208984375\n",
            "12/P_0: 0.013671875\n",
            "12/P_1: 0.0\n",
            "12/P_2: 0.178619384765625\n",
            "13/P_2: 0.0\n",
            "13/P_1: 0.00872802734375\n",
            "13/P_0: 0.0\n",
            "14/P_0: 0.0\n",
            "14/P_2: 0.008544921875\n",
            "14/P_1: 0.0\n",
            "15/P_1: 0.0\n",
            "15/P_0: 0.0\n",
            "15/P_2: 0.0\n"
          ]
        }
      ]
    },
    {
      "cell_type": "code",
      "source": [
        "# applying the permutation to the second model\n",
        "flattened_model1_permuted = unflatten_params(\n",
        "        apply_permutation(permutation_spec, final_permutation, flattened_model1)\n",
        "        )\n",
        "flattened_model2_permuted = unflatten_params(\n",
        "        apply_permutation(permutation_spec, final_permutation, flattened_model2)\n",
        "        )"
      ],
      "metadata": {
        "id": "_jMuWKFBBGy1"
      },
      "execution_count": null,
      "outputs": []
    },
    {
      "cell_type": "markdown",
      "source": [
        "## Performance verification"
      ],
      "metadata": {
        "id": "OJCgHKhCbnlO"
      }
    },
    {
      "cell_type": "markdown",
      "source": [
        "### Model 1"
      ],
      "metadata": {
        "id": "4ayKKHGlbrMN"
      }
    },
    {
      "cell_type": "code",
      "source": [
        "test_loss, test_accuracy = stuff[\"dataset_loss_and_accuracy\"](unflatten_params(flattened_model1), test_ds,\n",
        "                                                                  10_000)\n",
        "train_loss, train_accuracy = stuff[\"dataset_loss_and_accuracy\"](unflatten_params(flattened_model1), train_ds,\n",
        "                                                                  60_000)\n",
        "print(\"Model 1\")\n",
        "print(f\"train_loss={train_loss} train_accuracy={train_accuracy}\")\n",
        "print(f\"test_loss={test_loss} test_accuracy={test_accuracy}\")"
      ],
      "metadata": {
        "colab": {
          "base_uri": "https://localhost:8080/"
        },
        "id": "1LWHcfq5DVnC",
        "outputId": "19c61537-27a4-4cc7-b971-d3cae84acc2e"
      },
      "execution_count": null,
      "outputs": [
        {
          "output_type": "stream",
          "name": "stdout",
          "text": [
            "Model 1\n",
            "train_loss=4.870651792998615e-08 train_accuracy=1.0\n",
            "test_loss=0.16303028166294098 test_accuracy=0.9847000241279602\n"
          ]
        }
      ]
    },
    {
      "cell_type": "markdown",
      "source": [
        "### Model 2"
      ],
      "metadata": {
        "id": "eRaQ3-Zdb-k1"
      }
    },
    {
      "cell_type": "code",
      "source": [
        "test_loss, test_accuracy = stuff[\"dataset_loss_and_accuracy\"](unflatten_params(flattened_model2), test_ds,\n",
        "                                                                  10_000)\n",
        "train_loss, train_accuracy = stuff[\"dataset_loss_and_accuracy\"](unflatten_params(flattened_model2), train_ds,\n",
        "                                                                  60_000)\n",
        "print(\"Model 2\")\n",
        "print(f\"train_loss={train_loss} train_accuracy={train_accuracy}\")\n",
        "print(f\"test_loss={test_loss} test_accuracy={test_accuracy}\")"
      ],
      "metadata": {
        "colab": {
          "base_uri": "https://localhost:8080/"
        },
        "id": "hvHBV5MhBt7z",
        "outputId": "cd32f955-2291-45ea-881d-9dbdc299f971"
      },
      "execution_count": null,
      "outputs": [
        {
          "output_type": "stream",
          "name": "stdout",
          "text": [
            "Model 2\n",
            "train_loss=3.092891347478144e-07 train_accuracy=1.0\n",
            "test_loss=0.11352583020925522 test_accuracy=0.9846000075340271\n"
          ]
        }
      ]
    },
    {
      "cell_type": "markdown",
      "source": [
        "### Model 1 with permutation"
      ],
      "metadata": {
        "id": "xigRsStYeAsN"
      }
    },
    {
      "cell_type": "code",
      "source": [
        "test_loss, test_accuracy = stuff[\"dataset_loss_and_accuracy\"](unflatten_params(flattened_model1_permuted), test_ds,\n",
        "                                                                  10_000)\n",
        "train_loss, train_accuracy = stuff[\"dataset_loss_and_accuracy\"](unflatten_params(flattened_model1_permuted), train_ds,\n",
        "                                                                  60_000)\n",
        "print(\"Model 1 with permutation\")\n",
        "print(f\"train_loss={train_loss} train_accuracy={train_accuracy}\")\n",
        "print(f\"test_loss={test_loss} test_accuracy={test_accuracy}\")"
      ],
      "metadata": {
        "colab": {
          "base_uri": "https://localhost:8080/"
        },
        "id": "EB2laCOweDvX",
        "outputId": "43dfb22a-3941-4a66-bc93-83ff9b93a3ff"
      },
      "execution_count": null,
      "outputs": [
        {
          "output_type": "stream",
          "name": "stdout",
          "text": [
            "Model 1 with permutation\n",
            "train_loss=4.870651792998615e-08 train_accuracy=1.0\n",
            "test_loss=0.16303026676177979 test_accuracy=0.9847000241279602\n"
          ]
        }
      ]
    },
    {
      "cell_type": "markdown",
      "source": [
        "### Model 2 with permutation"
      ],
      "metadata": {
        "id": "RRcbDw4ocCsw"
      }
    },
    {
      "cell_type": "code",
      "source": [
        "test_loss, test_accuracy = stuff[\"dataset_loss_and_accuracy\"](unflatten_params(flattened_model2_permuted), test_ds,\n",
        "                                                                  10_000)\n",
        "train_loss, train_accuracy = stuff[\"dataset_loss_and_accuracy\"](unflatten_params(flattened_model2_permuted), train_ds,\n",
        "                                                                  60_000)\n",
        "print(\"Model 2 with permutation\")\n",
        "print(f\"train_loss={train_loss} train_accuracy={train_accuracy}\")\n",
        "print(f\"test_loss={test_loss} test_accuracy={test_accuracy}\")"
      ],
      "metadata": {
        "colab": {
          "base_uri": "https://localhost:8080/"
        },
        "id": "O7Qny9mvDW_D",
        "outputId": "5c4f9d08-a5fe-4318-a7a5-63e0d4b1c1fb"
      },
      "execution_count": null,
      "outputs": [
        {
          "output_type": "stream",
          "name": "stdout",
          "text": [
            "Model 2 with permutation\n",
            "train_loss=3.092910958457651e-07 train_accuracy=1.0\n",
            "test_loss=0.11352584511041641 test_accuracy=0.9846000075340271\n"
          ]
        }
      ]
    },
    {
      "cell_type": "markdown",
      "source": [
        "## Weight vector analysis"
      ],
      "metadata": {
        "id": "DEnczZuEeKbv"
      }
    },
    {
      "cell_type": "code",
      "source": [
        "flattened_model1_permuted_flat = flatten_params(flattened_model1_permuted)\n",
        "flattened_model2_permuted_flat = flatten_params(flattened_model2_permuted)"
      ],
      "metadata": {
        "id": "VMbbA5UPEXfk"
      },
      "execution_count": null,
      "outputs": []
    },
    {
      "cell_type": "code",
      "source": [
        "# all in long vectors\n",
        "keys = flattened_model1.keys()\n",
        "\n",
        "v1 = jnp.concatenate([flattened_model1[key].reshape([-1]) for key in keys],axis=0)\n",
        "v2 = jnp.concatenate([flattened_model2[key].reshape([-1]) for key in keys],axis=0)\n",
        "v1_perm = jnp.concatenate([flattened_model1_permuted_flat[key].reshape([-1]) for key in keys],axis=0)\n",
        "v2_perm = jnp.concatenate([flattened_model2_permuted_flat[key].reshape([-1]) for key in keys],axis=0)"
      ],
      "metadata": {
        "id": "KWnv1-pfCM-w"
      },
      "execution_count": null,
      "outputs": []
    },
    {
      "cell_type": "code",
      "source": [
        "vectors_to_show = [\n",
        "    (\"model 1\", v1),\n",
        "    (\"model 2\", v2),\n",
        "    (\"model 1 + perms\", v1_perm),\n",
        "    (\"model 2 + perms\", v2_perm), \n",
        "]\n",
        "\n",
        "for vector_str, vector in vectors_to_show:\n",
        "  print(f\"{vector_str} length**2={(jnp.sum(vector**2))}\")\n",
        "\n",
        "# the permutation should preserve the length"
      ],
      "metadata": {
        "colab": {
          "base_uri": "https://localhost:8080/"
        },
        "id": "p9dd2lPbEMRA",
        "outputId": "32354c20-0404-4686-9c3c-347eaad8d976"
      },
      "execution_count": null,
      "outputs": [
        {
          "output_type": "stream",
          "name": "stdout",
          "text": [
            "model 1 length**2=5133.1318359375\n",
            "model 2 length**2=4839.4189453125\n",
            "model 1 + perms length**2=5133.1328125\n",
            "model 2 + perms length**2=4839.41943359375\n"
          ]
        }
      ]
    },
    {
      "cell_type": "code",
      "source": [
        "coses_grid = np.zeros((len(vectors_to_show),len(vectors_to_show)))\n",
        "for i,(vector_str1, vector1) in enumerate(vectors_to_show):\n",
        "  for j,(vector_str2, vector2) in enumerate(vectors_to_show):\n",
        "    cos_now = jnp.sum(vector1*vector2)/jnp.sqrt(jnp.sum(vector1**2))/jnp.sqrt(jnp.sum(vector2**2))\n",
        "    print(f\"cos({vector_str1},{vector_str2})={cos_now}\")\n",
        "    coses_grid[i,j] = cos_now"
      ],
      "metadata": {
        "colab": {
          "base_uri": "https://localhost:8080/"
        },
        "id": "P4m3dP6-EkbX",
        "outputId": "045251ad-1e5d-4ad1-9ccb-5aabf1bd5614"
      },
      "execution_count": null,
      "outputs": [
        {
          "output_type": "stream",
          "name": "stdout",
          "text": [
            "cos(model 1,model 1)=0.9999998807907104\n",
            "cos(model 1,model 2)=0.012121602892875671\n",
            "cos(model 1,model 1 + perms)=0.015765761956572533\n",
            "cos(model 1,model 2 + perms)=0.3016852140426636\n",
            "cos(model 2,model 1)=0.012121603824198246\n",
            "cos(model 2,model 2)=1.0\n",
            "cos(model 2,model 1 + perms)=0.008134606294333935\n",
            "cos(model 2,model 2 + perms)=0.0138321528211236\n",
            "cos(model 1 + perms,model 1)=0.015765761956572533\n",
            "cos(model 1 + perms,model 2)=0.008134606294333935\n",
            "cos(model 1 + perms,model 1 + perms)=1.0000001192092896\n",
            "cos(model 1 + perms,model 2 + perms)=0.012121603824198246\n",
            "cos(model 2 + perms,model 1)=0.3016851842403412\n",
            "cos(model 2 + perms,model 2)=0.0138321528211236\n",
            "cos(model 2 + perms,model 1 + perms)=0.012121603824198246\n",
            "cos(model 2 + perms,model 2 + perms)=1.0000001192092896\n"
          ]
        }
      ]
    },
    {
      "cell_type": "code",
      "source": [
        "import matplotlib.pyplot as plt\n",
        "\n",
        "fig = plt.figure(figsize = (5,4),dpi=75)\n",
        "plt.title(\"Log of cos between weights\\nRed=parallel, blue=ortho\",fontsize=14)\n",
        "fig.patch.set_facecolor('white')\n",
        "plt.imshow(np.log(np.abs(coses_grid)),cmap=plt.cm.bwr,origin=\"lower\")\n",
        "plt.xticks(range(len(vectors_to_show)), [x[0] for x in vectors_to_show],rotation = 90,fontsize=14)\n",
        "plt.yticks(range(len(vectors_to_show)), [x[0] for x in vectors_to_show],fontsize=14)\n",
        "plt.colorbar()\n",
        "plt.show()\n"
      ],
      "metadata": {
        "colab": {
          "base_uri": "https://localhost:8080/",
          "height": 54
        },
        "id": "MlyGW2Mgf8J6",
        "outputId": "a0cbfb72-46b9-4467-d49e-2b3fca2e7420"
      },
      "execution_count": null,
      "outputs": [
        {
          "output_type": "display_data",
          "data": {
            "text/plain": [
              "<Figure size 375x300 with 2 Axes>"
            ],
            "image/png": "[encoded data removed]"
          },
          "metadata": {}
        }
      ]
    },
    {
      "cell_type": "markdown",
      "source": [
        "## Linear interpolations of weights = test for linear mode connectivity"
      ],
      "metadata": {
        "id": "rQnvPmWlhbgy"
      }
    },
    {
      "cell_type": "code",
      "source": [
        "def get_linear_combination(factor1,vector1,factor2,vector2):\n",
        "  return dict(\n",
        "      [(key,factor1*vector1[key]+factor2*vector2[key]) for key in vector1.keys()]\n",
        "  )"
      ],
      "metadata": {
        "id": "O4WSdg2uEvEO"
      },
      "execution_count": null,
      "outputs": []
    },
    {
      "cell_type": "markdown",
      "source": [
        "### Model 1 -> Model 2"
      ],
      "metadata": {
        "id": "AhKPabjyyLcN"
      }
    },
    {
      "cell_type": "code",
      "source": [
        "ts = np.linspace(0.0,1.0,10)\n",
        "\n",
        "start_vector = flattened_model1\n",
        "stop_vector = flattened_model2\n",
        "name = \"Model 1 -> Model 2\"\n",
        "\n",
        "test_losses_list = []\n",
        "test_accs_list = []\n",
        "train_losses_list = []\n",
        "train_accs_list = []\n",
        "\n",
        "for i,t in enumerate(ts):\n",
        "  new_params = get_linear_combination(\n",
        "      (1.0-t), start_vector, t, stop_vector\n",
        "  )\n",
        "  test_loss, test_accuracy = stuff[\"dataset_loss_and_accuracy\"](unflatten_params(new_params), test_ds,\n",
        "                                                                  10_000)\n",
        "  test_losses_list.append(test_loss)\n",
        "  test_accs_list.append(test_accuracy)\n",
        "\n",
        "  train_loss, train_accuracy = stuff[\"dataset_loss_and_accuracy\"](unflatten_params(new_params), train_ds,\n",
        "                                                                  60_000)\n",
        "  train_losses_list.append(train_loss)\n",
        "  train_accs_list.append(train_accuracy)\n",
        "\n",
        "  print(i,t,test_loss)\n",
        "\n",
        "plt.figure(figsize=(6,5),dpi=75)\n",
        "plt.gca().patch.set_facecolor('white')\n",
        "plt.title(f\"Linear weight interpolation\\n{name}\",fontsize=16)\n",
        "plt.plot(ts,train_losses_list,label=\"train\",marker=\"o\",color=\"crimson\",linewidth=2)\n",
        "plt.plot(ts,test_losses_list,label=\"test\",marker=\"o\",color=\"navy\",linewidth=2)\n",
        "plt.xlabel(\"Interpolation coeff\",fontsize=16)\n",
        "plt.ylabel(\"Loss\",fontsize=16)\n",
        "plt.xticks(fontsize=16)\n",
        "plt.yticks(fontsize=16)\n",
        "plt.legend(fontsize=16)\n",
        "plt.show()"
      ],
      "metadata": {
        "colab": {
          "base_uri": "https://localhost:8080/",
          "height": 233
        },
        "id": "OrlGik4SFbQZ",
        "outputId": "095f4fe9-6c30-4e3c-ebe2-aba3be1d8d74"
      },
      "execution_count": null,
      "outputs": [
        {
          "output_type": "stream",
          "name": "stdout",
          "text": [
            "0 0.0 0.16303028\n",
            "1 0.1111111111111111 0.09895832\n",
            "2 0.2222222222222222 0.074083254\n",
            "3 0.3333333333333333 0.16783968\n",
            "4 0.4444444444444444 0.75732315\n",
            "5 0.5555555555555556 0.93515956\n",
            "6 0.6666666666666666 0.3111173\n",
            "7 0.7777777777777777 0.06475945\n",
            "8 0.8888888888888888 0.06690775\n",
            "9 1.0 0.11352583\n"
          ]
        },
        {
          "output_type": "display_data",
          "data": {
            "text/plain": [
              "<Figure size 450x375 with 1 Axes>"
            ],
            "image/png": "[encoded data removed]"
          },
          "metadata": {
            "needs_background": "light"
          }
        }
      ]
    },
    {
      "cell_type": "markdown",
      "source": [
        "### Model 1 -> Model 2 + permutations"
      ],
      "metadata": {
        "id": "n3BA6E5PzkeK"
      }
    },
    {
      "cell_type": "code",
      "source": [
        "ts = np.linspace(0.0,1.0,10)\n",
        "\n",
        "start_vector = flattened_model1\n",
        "stop_vector = flattened_model2_permuted_flat\n",
        "name = \"Model 1 -> (Model 2 + permutations)\"\n",
        "\n",
        "test_losses_list = []\n",
        "test_accs_list = []\n",
        "train_losses_list = []\n",
        "train_accs_list = []\n",
        "\n",
        "for i,t in enumerate(ts):\n",
        "  new_params = get_linear_combination(\n",
        "      (1.0-t), start_vector, t, stop_vector\n",
        "  )\n",
        "  test_loss, test_accuracy = stuff[\"dataset_loss_and_accuracy\"](unflatten_params(new_params), test_ds,\n",
        "                                                                  10_000)\n",
        "  test_losses_list.append(test_loss)\n",
        "  test_accs_list.append(test_accuracy)\n",
        "\n",
        "  train_loss, train_accuracy = stuff[\"dataset_loss_and_accuracy\"](unflatten_params(new_params), train_ds,\n",
        "                                                                  60_000)\n",
        "  train_losses_list.append(train_loss)\n",
        "  train_accs_list.append(train_accuracy)\n",
        "\n",
        "  print(i,t,test_loss)\n",
        "\n",
        "fig = plt.figure(figsize=(6,5),dpi=75)\n",
        "fig.patch.set_facecolor('white')\n",
        "plt.title(f\"Linear weight interpolation\\n{name}\",fontsize=16)\n",
        "plt.plot(ts,train_losses_list,label=\"train\",marker=\"o\",color=\"crimson\",linewidth=2)\n",
        "plt.plot(ts,test_losses_list,label=\"test\",marker=\"o\",color=\"navy\",linewidth=2)\n",
        "plt.xlabel(\"Interpolation coeff\",fontsize=16)\n",
        "plt.ylabel(\"Loss\",fontsize=16)\n",
        "plt.xticks(fontsize=16)\n",
        "plt.yticks(fontsize=16)\n",
        "plt.legend(fontsize=16)\n",
        "plt.show()"
      ],
      "metadata": {
        "colab": {
          "base_uri": "https://localhost:8080/",
          "height": 233
        },
        "outputId": "bcdca4a0-a639-4d49-e4a4-0b59226905bc",
        "id": "fHqdEwS2zkeK"
      },
      "execution_count": null,
      "outputs": [
        {
          "output_type": "stream",
          "name": "stdout",
          "text": [
            "0 0.0 0.16303028\n",
            "1 0.1111111111111111 0.13702501\n",
            "2 0.2222222222222222 0.12110857\n",
            "3 0.3333333333333333 0.108322434\n",
            "4 0.4444444444444444 0.09769503\n",
            "5 0.5555555555555556 0.08995328\n",
            "6 0.6666666666666666 0.08623352\n",
            "7 0.7777777777777777 0.08856069\n",
            "8 0.8888888888888888 0.09765805\n",
            "9 1.0 0.113525845\n"
          ]
        },
        {
          "output_type": "display_data",
          "data": {
            "text/plain": [
              "<Figure size 450x375 with 1 Axes>"
            ],
            "image/png": "[encoded data removed]"
          },
          "metadata": {}
        }
      ]
    },
    {
      "cell_type": "markdown",
      "source": [
        "## Predictions"
      ],
      "metadata": {
        "id": "9O0zfLfg0GHt"
      }
    },
    {
      "cell_type": "code",
      "source": [
        "def compare_predictions(\n",
        "    model1,\n",
        "    model2,\n",
        "):\n",
        "\n",
        "  _, _, logits1, _ = stuff[\"dataset_predictions\"](model1, test_ds,\n",
        "                                                                    10_000)\n",
        "  _, _, logits2, _ = stuff[\"dataset_predictions\"](model2, test_ds,\n",
        "                                                                    10_000)\n",
        "  \n",
        "  return jnp.sum(jnp.argmax(logits1[0],axis=-1) != jnp.argmax(logits2[0],axis=-1))\n",
        "  \n"
      ],
      "metadata": {
        "id": "DBQgrut1LWt8"
      },
      "execution_count": null,
      "outputs": []
    },
    {
      "cell_type": "code",
      "source": [
        "models_to_show = [\n",
        "    (\"model 1\", flattened_model1),\n",
        "    (\"model 2\", flattened_model2),\n",
        "    (\"model 1 + perms\", flattened_model1_permuted_flat),\n",
        "    (\"model 2 + perms\", flattened_model2_permuted_flat), \n",
        "]\n",
        "\n",
        "disagreement_grid = np.zeros((len(models_to_show),len(models_to_show)))\n",
        "for i,(vector_str1, vector1) in enumerate(models_to_show):\n",
        "  for j,(vector_str2, vector2) in enumerate(models_to_show):\n",
        "    disagreement_now = compare_predictions(\n",
        "        unflatten_params(vector1),\n",
        "        unflatten_params(vector2)\n",
        "        )\n",
        "    print(f\"Disagreemnt {vector_str1} vs {vector_str2}={disagreement_now}\")\n",
        "    disagreement_grid[i,j] = disagreement_now"
      ],
      "metadata": {
        "colab": {
          "base_uri": "https://localhost:8080/"
        },
        "id": "SJ4mrJFwNlY4",
        "outputId": "edaf445b-0077-4098-d79c-7f4a6400bbce"
      },
      "execution_count": null,
      "outputs": [
        {
          "output_type": "stream",
          "name": "stdout",
          "text": [
            "Disagreemnt model 1 vs model 1=0\n",
            "Disagreemnt model 1 vs model 2=123\n",
            "Disagreemnt model 1 vs model 1 + perms=0\n",
            "Disagreemnt model 1 vs model 2 + perms=123\n",
            "Disagreemnt model 2 vs model 1=123\n",
            "Disagreemnt model 2 vs model 2=0\n",
            "Disagreemnt model 2 vs model 1 + perms=123\n",
            "Disagreemnt model 2 vs model 2 + perms=0\n",
            "Disagreemnt model 1 + perms vs model 1=0\n",
            "Disagreemnt model 1 + perms vs model 2=123\n",
            "Disagreemnt model 1 + perms vs model 1 + perms=0\n",
            "Disagreemnt model 1 + perms vs model 2 + perms=123\n",
            "Disagreemnt model 2 + perms vs model 1=123\n",
            "Disagreemnt model 2 + perms vs model 2=0\n",
            "Disagreemnt model 2 + perms vs model 1 + perms=123\n",
            "Disagreemnt model 2 + perms vs model 2 + perms=0\n"
          ]
        }
      ]
    },
    {
      "cell_type": "markdown",
      "source": [
        "## Loss landscape cuts"
      ],
      "metadata": {
        "id": "dL5jUqFX09Ws"
      }
    },
    {
      "cell_type": "code",
      "source": [
        "# reconstructing parameter dictionaries from flat vectors\n",
        "def reconstruct(vector, example_flat_model, keys):\n",
        "  i = 0\n",
        "  output = dict()\n",
        "  for key in keys:\n",
        "    shape_now = example_flat_model[key].shape\n",
        "    size_now = np.prod(shape_now)\n",
        "    data_now = vector[i:i+size_now].reshape(shape_now)\n",
        "    output[key] = data_now\n",
        "    i = i + size_now\n",
        "  return output\n",
        "\n"
      ],
      "metadata": {
        "id": "0ZLoWis0YFVN"
      },
      "execution_count": null,
      "outputs": []
    },
    {
      "cell_type": "code",
      "source": [
        "# testing it, should get all 0.0\n",
        "rec = reconstruct(v1, flattened_model1, flattened_model1.keys())\n",
        "for key in rec.keys():\n",
        "  print(jnp.max(jnp.abs(flattened_model1[key] - rec[key])))\n",
        "  assert jnp.max(jnp.abs(flattened_model1[key] - rec[key])) == 0.0"
      ],
      "metadata": {
        "colab": {
          "base_uri": "https://localhost:8080/"
        },
        "id": "UHcrTpX_YfWC",
        "outputId": "dd306d6e-ce82-44d4-dfae-26684a38bfe3"
      },
      "execution_count": null,
      "outputs": [
        {
          "output_type": "stream",
          "name": "stdout",
          "text": [
            "0.0\n",
            "0.0\n",
            "0.0\n",
            "0.0\n",
            "0.0\n",
            "0.0\n",
            "0.0\n",
            "0.0\n"
          ]
        }
      ]
    },
    {
      "cell_type": "markdown",
      "source": [
        "### Cut model1 - model2 - (model2+perm)"
      ],
      "metadata": {
        "id": "JDEctgeR1KBT"
      }
    },
    {
      "cell_type": "code",
      "source": [
        "model1 = flattened_model1\n",
        "model2 = flattened_model2\n",
        "model3 = flattened_model2_permuted_flat\n",
        "cut_str = \"Model 1 - Model 2 - (Model 2 + permutations)\"\n",
        "\n",
        "keys = model1.keys()\n",
        "\n",
        "v1 = jnp.concatenate([model1[key].reshape([-1]) for key in keys],axis=0)\n",
        "v2 = jnp.concatenate([model2[key].reshape([-1]) for key in keys],axis=0)\n",
        "v3 = jnp.concatenate([model3[key].reshape([-1]) for key in keys],axis=0)\n",
        "\n",
        "basis1 = v2-v1\n",
        "basis1_normed = basis1 / jnp.sqrt(jnp.sum(basis1**2.0))\n",
        "basis2 = v3 - v1\n",
        "basis2 = basis2 - jnp.sum(basis2*basis1_normed)*basis1_normed #orthogonalization\n",
        "basis2_normed = basis2 / jnp.sqrt(jnp.sum(basis2**2.0))\n",
        "\n",
        "scale = jnp.sqrt(jnp.sum(basis1**2))\n",
        "\n",
        "t1s = np.linspace(-0.5,1.5,21)\n",
        "t2s = np.linspace(-0.5,1.5,20)\n",
        "\n",
        "acc_grid = np.zeros((len(t1s),len(t2s)))\n",
        "loss_grid = np.zeros((len(t1s),len(t2s)))\n",
        "logits_grid = np.zeros((len(t1s),len(t2s), 10000, 10))\n",
        "\n",
        "for i1,t1 in enumerate(t1s):\n",
        "  print(f\"{i1}/{len(t1s)}\")\n",
        "  for i2,t2 in enumerate(t2s):\n",
        "\n",
        "    new_flat_v = v1 + basis1_normed*t1*scale + basis2_normed*t2*scale\n",
        "    reconstructed_flat = reconstruct(new_flat_v, model1, keys)\n",
        "    actest_loss, test_accuracy, logits, onehots = stuff[\"dataset_predictions\"](unflatten_params(reconstructed_flat), test_ds,\n",
        "                                                                  10_000)\n",
        "    logits_grid[i1,i2] = np.array(logits[0])\n",
        "    \n",
        "    acc_grid[i1,i2] = test_accuracy\n",
        "    loss_grid[i1,i2] = actest_loss\n",
        "  \n",
        "def projection(vector):\n",
        "  x = jnp.sum((vector - v1)*basis1_normed)/scale\n",
        "  y = jnp.sum((vector - v1)*basis2_normed)/scale\n",
        "  return x,y\n",
        "\n"
      ],
      "metadata": {
        "colab": {
          "base_uri": "https://localhost:8080/"
        },
        "id": "nG_tQWNxPbHS",
        "outputId": "2fd98fce-0c97-4eeb-c2b5-2acea493adb2"
      },
      "execution_count": null,
      "outputs": [
        {
          "output_type": "stream",
          "name": "stdout",
          "text": [
            "0/21\n",
            "1/21\n",
            "2/21\n",
            "3/21\n",
            "4/21\n",
            "5/21\n",
            "6/21\n",
            "7/21\n",
            "8/21\n",
            "9/21\n",
            "10/21\n",
            "11/21\n",
            "12/21\n",
            "13/21\n",
            "14/21\n",
            "15/21\n",
            "16/21\n",
            "17/21\n",
            "18/21\n",
            "19/21\n",
            "20/21\n"
          ]
        }
      ]
    },
    {
      "cell_type": "code",
      "source": [
        "import matplotlib.pyplot as plt\n",
        "\n",
        "fig = plt.figure(figsize = (6,5),dpi=100)\n",
        "fig.patch.set_facecolor('white')\n",
        "plt.title(f\"Test loss weight space cut\\n{cut_str}\")\n",
        "\n",
        "plt.contourf(t1s,t2s,loss_grid.T,cmap=plt.cm.Greens_r,vmax=2.2,levels=40)\n",
        "plt.colorbar()\n",
        "\n",
        "x1,y1 = projection(v1)\n",
        "plt.scatter([x1],[y1],marker=\"o\",color=\"red\",label=\"model 1\",s=150)\n",
        "\n",
        "x2,y2 = projection(v2)\n",
        "plt.scatter([x2],[y2],marker=\"s\",color=\"blue\",label=\"model 2\",s=150)\n",
        "\n",
        "x2p,y2p = projection(v3)\n",
        "plt.scatter([x2p],[y2p],marker=\"^\",color=\"aqua\",label=\"model 2\\npermuted\",s=150)\n",
        "\n",
        "\n",
        "plt.plot([x1,x2p],[y1,y2p],linewidth=2,linestyle=\"--\",color=\"fuchsia\",label=\"Not connected?!?\")\n",
        "\n",
        "plt.xlabel(\"Weight direction 1\",fontsize = 16)\n",
        "plt.ylabel(\"Weight direction 2\",fontsize = 16)\n",
        "\n",
        "\n",
        "plt.legend(fontsize=10,ncol=1)\n",
        "\n",
        "plt.show()"
      ],
      "metadata": {
        "colab": {
          "base_uri": "https://localhost:8080/",
          "height": 54
        },
        "id": "Xj99g13mNpcO",
        "outputId": "1b63e9e8-46ed-46df-e90a-a676fe2f7e74"
      },
      "execution_count": null,
      "outputs": [
        {
          "output_type": "display_data",
          "data": {
            "text/plain": [
              "<Figure size 600x500 with 2 Axes>"
            ],
            "image/png": "[encoded data removed]"
          },
          "metadata": {}
        }
      ]
    },
    {
      "cell_type": "markdown",
      "source": [
        "## Combined plot"
      ],
      "metadata": {
        "id": "fEsbxWxbLcgH"
      }
    },
    {
      "cell_type": "code",
      "source": [
        "def get_linear_cut(start_vector, stop_vector, steps=10):\n",
        "\n",
        "  ts = np.linspace(0.0,1.0,steps)\n",
        "\n",
        "  test_losses_list = []\n",
        "  test_accs_list = []\n",
        "  train_losses_list = []\n",
        "  train_accs_list = []\n",
        "\n",
        "  for i,t in enumerate(ts):\n",
        "    new_params = get_linear_combination(\n",
        "        (1.0-t), start_vector, t, stop_vector\n",
        "    )\n",
        "    test_loss, test_accuracy = stuff[\"dataset_loss_and_accuracy\"](unflatten_params(new_params), test_ds,\n",
        "                                                                    10_000)\n",
        "    test_losses_list.append(test_loss)\n",
        "    test_accs_list.append(test_accuracy)\n",
        "\n",
        "    train_loss, train_accuracy = stuff[\"dataset_loss_and_accuracy\"](unflatten_params(new_params), train_ds,\n",
        "                                                                    60_000)\n",
        "    train_losses_list.append(train_loss)\n",
        "    train_accs_list.append(train_accuracy)\n",
        "\n",
        "  return ts, test_losses_list, test_accs_list, train_losses_list, train_accs_list\n"
      ],
      "metadata": {
        "id": "i85JbMXcMbHO"
      },
      "execution_count": null,
      "outputs": []
    },
    {
      "cell_type": "code",
      "source": [
        "import matplotlib.pyplot as plt\n",
        "\n",
        "fig = plt.figure(figsize=(12, 6), dpi = 75)\n",
        "fig.patch.set_facecolor('white')\n",
        "\n",
        "plt.suptitle(\"Git Re-Basin (MLP on MNIST)\\nThe permuted model 2 is NOT linearly connected?!?\")\n",
        "\n",
        "plt.subplot(1,2,1)\n",
        "\n",
        "plt.title(f\"Test loss weight space cut\\n{cut_str}\")\n",
        "\n",
        "plt.contourf(t1s,t2s,loss_grid.T,cmap=plt.cm.Greens_r,vmax=2.2,levels=40)\n",
        "plt.colorbar()\n",
        "\n",
        "x1,y1 = projection(v1)\n",
        "plt.scatter([x1],[y1],marker=\"o\",color=\"red\",label=\"model 1\",s=150)\n",
        "\n",
        "x2,y2 = projection(v2)\n",
        "plt.scatter([x2],[y2],marker=\"s\",color=\"blue\",label=\"model 2\",s=150)\n",
        "\n",
        "x2p,y2p = projection(v3)\n",
        "plt.scatter([x2p],[y2p],marker=\"^\",color=\"aqua\",label=\"model 2\\npermuted\",s=150)\n",
        "\n",
        "\n",
        "plt.plot([x1,x2],[y1,y2],linewidth=2,linestyle=\"--\",color=\"fuchsia\")\n",
        "plt.plot([x2,x2p],[y2,y2p],linewidth=2,linestyle=\"--\",color=\"lime\")\n",
        "plt.plot([x1,x2p],[y1,y2p],linewidth=2,linestyle=\"--\",color=\"blue\")\n",
        "\n",
        "\n",
        "plt.xlabel(\"Weight direction 1\",fontsize = 16)\n",
        "plt.ylabel(\"Weight direction 2\",fontsize = 16)\n",
        "\n",
        "plt.legend(fontsize=10,ncol=1)\n",
        "\n",
        "# getting the data\n",
        "all_test_losses = []\n",
        "ts, test_losses_list, test_accs_list, train_losses_list, train_accs_list = get_linear_cut(flattened_model1, flattened_model2_permuted_flat, 10)\n",
        "all_test_losses += test_losses_list\n",
        "ts, test_losses_list, test_accs_list, train_losses_list, train_accs_list = get_linear_cut(flattened_model2, flattened_model2_permuted_flat, 10)\n",
        "all_test_losses += test_losses_list\n",
        "ts, test_losses_list, test_accs_list, train_losses_list, train_accs_list = get_linear_cut(flattened_model1, flattened_model2, 10)\n",
        "all_test_losses += test_losses_list\n",
        "\n",
        "lower_lim = np.min(test_losses_list)-(np.max(test_losses_list)-np.min(test_losses_list))*0.1\n",
        "upper_lim = np.max(test_losses_list)+(np.max(test_losses_list)-np.min(test_losses_list))*0.1\n",
        "\n",
        "\n",
        "plt.subplot(3,2,2)\n",
        "\n",
        "ts, test_losses_list, test_accs_list, train_losses_list, train_accs_list = get_linear_cut(flattened_model1, flattened_model2_permuted_flat, 10)\n",
        "\n",
        "plt.title(f\"(Model 2 + perm) -> Model 1\",fontsize=12)\n",
        "plt.plot(ts,train_losses_list,label=\"train\",marker=\"o\",color=\"blue\",linewidth=2)\n",
        "plt.xlabel(\"Interpolation coeff\",fontsize=12)\n",
        "plt.ylabel(\"Loss\",fontsize=12)\n",
        "plt.ylim([lower_lim, upper_lim])\n",
        "\n",
        "\n",
        "plt.subplot(3,2,4)\n",
        "ts, test_losses_list, test_accs_list, train_losses_list, train_accs_list = get_linear_cut(flattened_model2, flattened_model2_permuted_flat, 10)\n",
        "plt.title(f\"Model 2 -> (Model 2 + perm)\",fontsize=12)\n",
        "plt.plot(ts,test_losses_list,label=\"test\",marker=\"o\",color=\"lime\",linewidth=2)\n",
        "plt.xlabel(\"Interpolation coeff\",fontsize=12)\n",
        "plt.ylabel(\"Loss\",fontsize=12)\n",
        "plt.ylim([lower_lim, upper_lim])\n",
        "\n",
        "plt.subplot(3,2,6)\n",
        "ts, test_losses_list, test_accs_list, train_losses_list, train_accs_list = get_linear_cut(flattened_model1, flattened_model2, 10)\n",
        "plt.title(f\"Model 1 -> Model 2\",fontsize=12)\n",
        "plt.plot(ts,test_losses_list,label=\"test\",marker=\"o\",color=\"fuchsia\",linewidth=2)\n",
        "plt.ylim([np.min(test_losses_list),np.max(test_losses_list)])\n",
        "plt.xlabel(\"Interpolation coeff\",fontsize=12)\n",
        "plt.ylabel(\"Loss\",fontsize=12)\n",
        "\n",
        "plt.ylim([lower_lim, upper_lim])\n",
        "\n",
        "plt.tight_layout()\n",
        "plt.subplots_adjust(top=0.85)\n",
        "plt.show()"
      ],
      "metadata": {
        "colab": {
          "base_uri": "https://localhost:8080/",
          "height": 54
        },
        "id": "7sHbZDUxLdeB",
        "outputId": "69f08a3b-3cc9-4910-d2c6-06edce46dcbb"
      },
      "execution_count": null,
      "outputs": [
        {
          "output_type": "display_data",
          "data": {
            "text/plain": [
              "<Figure size 900x450 with 5 Axes>"
            ],
            "image/png": "[encoded data removed]"
          },
          "metadata": {}
        }
      ]
    },
    {
      "cell_type": "code",
      "source": [],
      "metadata": {
        "id": "vJ3pg-Ack-BU"
      },
      "execution_count": null,
      "outputs": []
    }
  ]
}